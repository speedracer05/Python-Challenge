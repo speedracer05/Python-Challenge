{
 "cells": [
  {
   "cell_type": "code",
   "execution_count": 2,
   "metadata": {},
   "outputs": [],
   "source": [
    "import pandas as pd"
   ]
  },
  {
   "cell_type": "code",
   "execution_count": 3,
   "metadata": {},
   "outputs": [],
   "source": [
    "election_csv = \"Resources/election_data.csv\""
   ]
  },
  {
   "cell_type": "code",
   "execution_count": 4,
   "metadata": {},
   "outputs": [],
   "source": [
    "election_df = pd.read_csv(election_csv)"
   ]
  },
  {
   "cell_type": "code",
   "execution_count": 5,
   "metadata": {},
   "outputs": [
    {
     "output_type": "execute_result",
     "data": {
      "text/plain": [
       "   Voter ID County Candidate\n",
       "0  12864552  Marsh      Khan\n",
       "1  17444633  Marsh    Correy\n",
       "2  19330107  Marsh      Khan\n",
       "3  19865775  Queen      Khan\n",
       "4  11927875  Marsh      Khan"
      ],
      "text/html": "<div>\n<style scoped>\n    .dataframe tbody tr th:only-of-type {\n        vertical-align: middle;\n    }\n\n    .dataframe tbody tr th {\n        vertical-align: top;\n    }\n\n    .dataframe thead th {\n        text-align: right;\n    }\n</style>\n<table border=\"1\" class=\"dataframe\">\n  <thead>\n    <tr style=\"text-align: right;\">\n      <th></th>\n      <th>Voter ID</th>\n      <th>County</th>\n      <th>Candidate</th>\n    </tr>\n  </thead>\n  <tbody>\n    <tr>\n      <th>0</th>\n      <td>12864552</td>\n      <td>Marsh</td>\n      <td>Khan</td>\n    </tr>\n    <tr>\n      <th>1</th>\n      <td>17444633</td>\n      <td>Marsh</td>\n      <td>Correy</td>\n    </tr>\n    <tr>\n      <th>2</th>\n      <td>19330107</td>\n      <td>Marsh</td>\n      <td>Khan</td>\n    </tr>\n    <tr>\n      <th>3</th>\n      <td>19865775</td>\n      <td>Queen</td>\n      <td>Khan</td>\n    </tr>\n    <tr>\n      <th>4</th>\n      <td>11927875</td>\n      <td>Marsh</td>\n      <td>Khan</td>\n    </tr>\n  </tbody>\n</table>\n</div>"
     },
     "metadata": {},
     "execution_count": 5
    }
   ],
   "source": [
    "election_df.head()"
   ]
  },
  {
   "cell_type": "code",
   "execution_count": null,
   "metadata": {},
   "outputs": [],
   "source": [
    "# PyPoll Analysis print via Terminal\n",
    "print(\"Election Results\")\n",
    "print(\"**************************\")\n",
    "print(\"\")\n",
    "print(\"**************************\")\n",
    "print(\"\")\n",
    "print(\"\")\n",
    "print(\"\")\n",
    "print(\"\")\n",
    "print(\"**************************\")\n",
    "print(\"\")\n",
    "print(\"**************************\")"
   ]
  },
  {
   "cell_type": "code",
   "execution_count": null,
   "metadata": {},
   "outputs": [],
   "source": [
    "# Write text file with results of financial analysis\n",
    "with open(\"Report_PyPoll.txt\", \"w\") as text_file:\n",
    "    text_file.write(\"Election Results\" + \"\\n\")\n",
    "    text_file.write(\"**************************\" + \"\\n\")\n",
    "    text_file.write(\"Total Votes:\" + \n",
    "    text_file.write(\"**************************\" + \"\\n\")\n",
    "    text_file.write(\n",
    "    text_file.write(\n",
    "    text_file.write(\n",
    "    text_file.write(\n",
    "    text_file.write(\"**************************\" + \"\\n\")\n",
    "    text_file.write(\n",
    "    text_file.write(\"**************************\" + \"\\n\")"
   ]
  }
 ],
 "metadata": {
  "kernelspec": {
   "name": "python3610jvsc74a57bd09e69114408c56b3cc24c531fa9113201664748820a3bf7bfa51705a53f5a976b",
   "display_name": "Python 3.6.10 64-bit ('PythonData': conda)"
  },
  "language_info": {
   "codemirror_mode": {
    "name": "ipython",
    "version": 3
   },
   "file_extension": ".py",
   "mimetype": "text/x-python",
   "name": "python",
   "nbconvert_exporter": "python",
   "pygments_lexer": "ipython3",
   "version": "3.6.10"
  }
 },
 "nbformat": 4,
 "nbformat_minor": 4
}